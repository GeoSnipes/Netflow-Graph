{
 "cells": [
  {
   "cell_type": "code",
   "execution_count": 1,
   "metadata": {},
   "outputs": [],
   "source": [
    "import os, time\n",
    "import datetime as dt\n",
    "import pandas as pd\n",
    "from multiprocessing import Pool, cpu_count\n",
    "import Settings\n",
    "SOURCE = Settings.NETFLOW_PROS"
   ]
  },
  {
   "cell_type": "code",
   "execution_count": 2,
   "metadata": {},
   "outputs": [],
   "source": [
    "from tqdm.notebook import tqdm\n",
    "from tqdm.notebook import tnrange"
   ]
  },
  {
   "cell_type": "code",
   "execution_count": 3,
   "metadata": {},
   "outputs": [
    {
     "name": "stdout",
     "output_type": "stream",
     "text": [
      "[INFO] Starting conversion\n",
      "[INFO] 7 files found in directory D:\\Users\\Geovanni\\Sync\\PhD\\Data\\Conv\n"
     ]
    },
    {
     "data": {
      "application/vnd.jupyter.widget-view+json": {
       "model_id": "21e8732daa4249a788bcef9cb1b3da79",
       "version_major": 2,
       "version_minor": 0
      },
      "text/plain": [
       "HBox(children=(FloatProgress(value=0.0, max=6.0), HTML(value='')))"
      ]
     },
     "metadata": {},
     "output_type": "display_data"
    },
    {
     "name": "stdout",
     "output_type": "stream",
     "text": [
      "\n"
     ]
    }
   ],
   "source": [
    "INTERVAL = 5\n",
    "if __name__ == '__main__':\n",
    "    conv_files = list(filter(lambda x: x.startswith('feather_'), os.listdir(SOURCE)))\n",
    "    print('[INFO] Starting conversion')\n",
    "    print(f'[INFO] {len(conv_files)} files found in directory {os.getcwd()}{SOURCE[1:]}')\n",
    "    df = pd.read_feather(SOURCE+'/'+conv_files[0])\n",
    "    df['Duration'] = df['Duration'].map(lambda x: dt.timedelta(seconds=x))\n",
    "    df['Datetime_lastseen'] = df['Datetime_firstseen']+df['Duration']\n",
    "    if True:\n",
    "        dfs=[df]\n",
    "        for file in tqdm(conv_files[1:]):\n",
    "            tempdf = pd.read_feather(SOURCE+'/'+file)\n",
    "            tempdf['Duration'] = tempdf['Duration'].map(lambda x: dt.timedelta(seconds=x))\n",
    "            tempdf['Datetime_lastseen'] = tempdf['Datetime_firstseen']+df['Duration']\n",
    "            dfs.append(tempdf)\n",
    "        df = pd.concat(dfs, ignore_index=True)\n",
    "#     df.sort_values(by=['Datetime_firstseen'], inplace=True)\n",
    "#     df.reset_index(inplace=True, drop=True)\n",
    "\n",
    "#     pool = Pool(processes=4)\n",
    "#     dfs = pool.map(process_nfdump, conv_files)"
   ]
  },
  {
   "cell_type": "code",
   "execution_count": 4,
   "metadata": {},
   "outputs": [
    {
     "data": {
      "text/plain": [
       "(9496587, 14)"
      ]
     },
     "metadata": {},
     "output_type": "display_data"
    },
    {
     "data": {
      "text/html": [
       "<div>\n",
       "<style scoped>\n",
       "    .dataframe tbody tr th:only-of-type {\n",
       "        vertical-align: middle;\n",
       "    }\n",
       "\n",
       "    .dataframe tbody tr th {\n",
       "        vertical-align: top;\n",
       "    }\n",
       "\n",
       "    .dataframe thead th {\n",
       "        text-align: right;\n",
       "    }\n",
       "</style>\n",
       "<table border=\"1\" class=\"dataframe\">\n",
       "  <thead>\n",
       "    <tr style=\"text-align: right;\">\n",
       "      <th></th>\n",
       "      <th>Datetime_firstseen</th>\n",
       "      <th>Duration</th>\n",
       "      <th>Protocol</th>\n",
       "      <th>Src_IP_Addr</th>\n",
       "      <th>Src_Port</th>\n",
       "      <th>Direc</th>\n",
       "      <th>Dst_IP_Addr</th>\n",
       "      <th>Dst_Port</th>\n",
       "      <th>Flags</th>\n",
       "      <th>Tos</th>\n",
       "      <th>Packets</th>\n",
       "      <th>Bytes</th>\n",
       "      <th>Flows</th>\n",
       "      <th>Datetime_lastseen</th>\n",
       "    </tr>\n",
       "  </thead>\n",
       "  <tbody>\n",
       "    <tr>\n",
       "      <th>0</th>\n",
       "      <td>2020-02-07 23:54:53.840</td>\n",
       "      <td>00:04:50.310000</td>\n",
       "      <td>UDP</td>\n",
       "      <td>134.193.92.68</td>\n",
       "      <td>500</td>\n",
       "      <td>-&gt;</td>\n",
       "      <td>209.85.235.189</td>\n",
       "      <td>500</td>\n",
       "      <td>........</td>\n",
       "      <td>0</td>\n",
       "      <td>121</td>\n",
       "      <td>52824</td>\n",
       "      <td>1</td>\n",
       "      <td>2020-02-07 23:59:44.150</td>\n",
       "    </tr>\n",
       "    <tr>\n",
       "      <th>1</th>\n",
       "      <td>2020-02-07 23:57:52.820</td>\n",
       "      <td>00:01:51.696000</td>\n",
       "      <td>TCP</td>\n",
       "      <td>172.217.9.132</td>\n",
       "      <td>443</td>\n",
       "      <td>-&gt;</td>\n",
       "      <td>134.193.198.19</td>\n",
       "      <td>62831</td>\n",
       "      <td>...AP...</td>\n",
       "      <td>128</td>\n",
       "      <td>2521</td>\n",
       "      <td>1800000</td>\n",
       "      <td>1</td>\n",
       "      <td>2020-02-07 23:59:44.516</td>\n",
       "    </tr>\n",
       "    <tr>\n",
       "      <th>2</th>\n",
       "      <td>2020-02-07 23:58:01.226</td>\n",
       "      <td>00:01:43.250000</td>\n",
       "      <td>TCP</td>\n",
       "      <td>172.217.1.238</td>\n",
       "      <td>443</td>\n",
       "      <td>-&gt;</td>\n",
       "      <td>134.193.198.19</td>\n",
       "      <td>62833</td>\n",
       "      <td>...AP...</td>\n",
       "      <td>0</td>\n",
       "      <td>1225</td>\n",
       "      <td>990522</td>\n",
       "      <td>1</td>\n",
       "      <td>2020-02-07 23:59:44.476</td>\n",
       "    </tr>\n",
       "    <tr>\n",
       "      <th>3</th>\n",
       "      <td>2020-02-07 23:58:34.242</td>\n",
       "      <td>00:01:10.006000</td>\n",
       "      <td>TCP</td>\n",
       "      <td>134.193.254.218</td>\n",
       "      <td>49345</td>\n",
       "      <td>-&gt;</td>\n",
       "      <td>150.199.7.126</td>\n",
       "      <td>443</td>\n",
       "      <td>...APRS.</td>\n",
       "      <td>0</td>\n",
       "      <td>715</td>\n",
       "      <td>41665</td>\n",
       "      <td>1</td>\n",
       "      <td>2020-02-07 23:59:44.248</td>\n",
       "    </tr>\n",
       "    <tr>\n",
       "      <th>4</th>\n",
       "      <td>2020-02-07 23:58:43.858</td>\n",
       "      <td>00:01:01.010000</td>\n",
       "      <td>TCP</td>\n",
       "      <td>136.34.135.223</td>\n",
       "      <td>51053</td>\n",
       "      <td>-&gt;</td>\n",
       "      <td>134.193.136.193</td>\n",
       "      <td>443</td>\n",
       "      <td>...AP.SF</td>\n",
       "      <td>0</td>\n",
       "      <td>16</td>\n",
       "      <td>1832</td>\n",
       "      <td>1</td>\n",
       "      <td>2020-02-07 23:59:44.868</td>\n",
       "    </tr>\n",
       "    <tr>\n",
       "      <th>...</th>\n",
       "      <td>...</td>\n",
       "      <td>...</td>\n",
       "      <td>...</td>\n",
       "      <td>...</td>\n",
       "      <td>...</td>\n",
       "      <td>...</td>\n",
       "      <td>...</td>\n",
       "      <td>...</td>\n",
       "      <td>...</td>\n",
       "      <td>...</td>\n",
       "      <td>...</td>\n",
       "      <td>...</td>\n",
       "      <td>...</td>\n",
       "      <td>...</td>\n",
       "    </tr>\n",
       "    <tr>\n",
       "      <th>9496582</th>\n",
       "      <td>2020-02-08 00:34:43.987</td>\n",
       "      <td>00:00:00</td>\n",
       "      <td>TCP</td>\n",
       "      <td>45.227.254.30</td>\n",
       "      <td>49116</td>\n",
       "      <td>-&gt;</td>\n",
       "      <td>204.56.1.75</td>\n",
       "      <td>33898</td>\n",
       "      <td>......S.</td>\n",
       "      <td>0</td>\n",
       "      <td>1</td>\n",
       "      <td>40</td>\n",
       "      <td>1</td>\n",
       "      <td>NaT</td>\n",
       "    </tr>\n",
       "    <tr>\n",
       "      <th>9496583</th>\n",
       "      <td>2020-02-08 00:34:43.987</td>\n",
       "      <td>00:00:00</td>\n",
       "      <td>TCP</td>\n",
       "      <td>134.49.252.240</td>\n",
       "      <td>58357</td>\n",
       "      <td>-&gt;</td>\n",
       "      <td>134.193.25.80</td>\n",
       "      <td>80</td>\n",
       "      <td>......S.</td>\n",
       "      <td>0</td>\n",
       "      <td>1</td>\n",
       "      <td>44</td>\n",
       "      <td>1</td>\n",
       "      <td>NaT</td>\n",
       "    </tr>\n",
       "    <tr>\n",
       "      <th>9496584</th>\n",
       "      <td>2020-02-08 00:34:43.987</td>\n",
       "      <td>00:00:00</td>\n",
       "      <td>TCP</td>\n",
       "      <td>92.63.194.115</td>\n",
       "      <td>40352</td>\n",
       "      <td>-&gt;</td>\n",
       "      <td>134.193.157.232</td>\n",
       "      <td>35543</td>\n",
       "      <td>......S.</td>\n",
       "      <td>0</td>\n",
       "      <td>1</td>\n",
       "      <td>40</td>\n",
       "      <td>1</td>\n",
       "      <td>NaT</td>\n",
       "    </tr>\n",
       "    <tr>\n",
       "      <th>9496585</th>\n",
       "      <td>2020-02-08 00:34:43.987</td>\n",
       "      <td>00:00:00</td>\n",
       "      <td>TCP</td>\n",
       "      <td>198.209.56.129</td>\n",
       "      <td>443</td>\n",
       "      <td>-&gt;</td>\n",
       "      <td>134.193.244.195</td>\n",
       "      <td>52995</td>\n",
       "      <td>...AP...</td>\n",
       "      <td>0</td>\n",
       "      <td>1</td>\n",
       "      <td>109</td>\n",
       "      <td>1</td>\n",
       "      <td>NaT</td>\n",
       "    </tr>\n",
       "    <tr>\n",
       "      <th>9496586</th>\n",
       "      <td>2020-02-08 00:34:43.987</td>\n",
       "      <td>00:00:00</td>\n",
       "      <td>TCP</td>\n",
       "      <td>198.108.66.85</td>\n",
       "      <td>40219</td>\n",
       "      <td>-&gt;</td>\n",
       "      <td>134.193.35.225</td>\n",
       "      <td>20000</td>\n",
       "      <td>......S.</td>\n",
       "      <td>0</td>\n",
       "      <td>1</td>\n",
       "      <td>40</td>\n",
       "      <td>1</td>\n",
       "      <td>NaT</td>\n",
       "    </tr>\n",
       "  </tbody>\n",
       "</table>\n",
       "<p>9496587 rows × 14 columns</p>\n",
       "</div>"
      ],
      "text/plain": [
       "             Datetime_firstseen        Duration Protocol      Src_IP_Addr  \\\n",
       "0       2020-02-07 23:54:53.840 00:04:50.310000      UDP    134.193.92.68   \n",
       "1       2020-02-07 23:57:52.820 00:01:51.696000      TCP    172.217.9.132   \n",
       "2       2020-02-07 23:58:01.226 00:01:43.250000      TCP    172.217.1.238   \n",
       "3       2020-02-07 23:58:34.242 00:01:10.006000      TCP  134.193.254.218   \n",
       "4       2020-02-07 23:58:43.858 00:01:01.010000      TCP   136.34.135.223   \n",
       "...                         ...             ...      ...              ...   \n",
       "9496582 2020-02-08 00:34:43.987        00:00:00      TCP    45.227.254.30   \n",
       "9496583 2020-02-08 00:34:43.987        00:00:00      TCP   134.49.252.240   \n",
       "9496584 2020-02-08 00:34:43.987        00:00:00      TCP    92.63.194.115   \n",
       "9496585 2020-02-08 00:34:43.987        00:00:00      TCP   198.209.56.129   \n",
       "9496586 2020-02-08 00:34:43.987        00:00:00      TCP    198.108.66.85   \n",
       "\n",
       "        Src_Port Direc      Dst_IP_Addr Dst_Port     Flags  Tos  Packets  \\\n",
       "0            500    ->   209.85.235.189      500  ........    0      121   \n",
       "1            443    ->   134.193.198.19    62831  ...AP...  128     2521   \n",
       "2            443    ->   134.193.198.19    62833  ...AP...    0     1225   \n",
       "3          49345    ->    150.199.7.126      443  ...APRS.    0      715   \n",
       "4          51053    ->  134.193.136.193      443  ...AP.SF    0       16   \n",
       "...          ...   ...              ...      ...       ...  ...      ...   \n",
       "9496582    49116    ->      204.56.1.75    33898  ......S.    0        1   \n",
       "9496583    58357    ->    134.193.25.80       80  ......S.    0        1   \n",
       "9496584    40352    ->  134.193.157.232    35543  ......S.    0        1   \n",
       "9496585      443    ->  134.193.244.195    52995  ...AP...    0        1   \n",
       "9496586    40219    ->   134.193.35.225    20000  ......S.    0        1   \n",
       "\n",
       "           Bytes  Flows       Datetime_lastseen  \n",
       "0          52824      1 2020-02-07 23:59:44.150  \n",
       "1        1800000      1 2020-02-07 23:59:44.516  \n",
       "2         990522      1 2020-02-07 23:59:44.476  \n",
       "3          41665      1 2020-02-07 23:59:44.248  \n",
       "4           1832      1 2020-02-07 23:59:44.868  \n",
       "...          ...    ...                     ...  \n",
       "9496582       40      1                     NaT  \n",
       "9496583       44      1                     NaT  \n",
       "9496584       40      1                     NaT  \n",
       "9496585      109      1                     NaT  \n",
       "9496586       40      1                     NaT  \n",
       "\n",
       "[9496587 rows x 14 columns]"
      ]
     },
     "execution_count": 4,
     "metadata": {},
     "output_type": "execute_result"
    }
   ],
   "source": [
    "display(df.shape)\n",
    "df"
   ]
  },
  {
   "cell_type": "code",
   "execution_count": 5,
   "metadata": {},
   "outputs": [
    {
     "name": "stdout",
     "output_type": "stream",
     "text": [
      "2020-02-07 23:30:00.056000\t->\t2020-02-08 01:04:30.056000\n"
     ]
    }
   ],
   "source": [
    "interval_sum = pd.DataFrame(pd.date_range(start=df.Datetime_firstseen.min(), \n",
    "                                           end=df.Datetime_lastseen.max(), \n",
    "                                           freq=f'{INTERVAL}S'))\n",
    "interval_sum[1] = [0] * len(interval_sum)\n",
    "interval_sum.columns = ['datespace', 'sum of data transfer']\n",
    "print(f'{interval_sum.datespace.min()}\\t->\\t{interval_sum.datespace.max()}')\n",
    "interval_sum.set_index('datespace', inplace=True)\n",
    "\n",
    "# interval_sum = interval_sum.iloc[:int(len(interval_sum)*.25),:]\n",
    "# interval_sum"
   ]
  },
  {
   "cell_type": "code",
   "execution_count": 6,
   "metadata": {},
   "outputs": [],
   "source": [
    "import math\n",
    "def calculate_resampled_bytes(row, starttime, inter):\n",
    "    num_interval_transfer = math.ceil(row['Duration'].total_seconds()/inter)\n",
    "    avg_rate_of_transfer = row['Bytes']/num_interval_transfer\n",
    "    list_of_bytes_across_intervals = [avg_rate_of_transfer]*num_interval_transfer\n",
    "    return list_of_bytes_across_intervals"
   ]
  },
  {
   "cell_type": "code",
   "execution_count": null,
   "metadata": {},
   "outputs": [
    {
     "data": {
      "application/vnd.jupyter.widget-view+json": {
       "model_id": "85cffa70508547008ba6a135bdcbcf63",
       "version_major": 2,
       "version_minor": 0
      },
      "text/plain": [
       "HBox(children=(FloatProgress(value=0.0, max=1135.0), HTML(value='')))"
      ]
     },
     "metadata": {},
     "output_type": "display_data"
    },
    {
     "name": "stdout",
     "output_type": "stream",
     "text": [
      "At 2020-02-07 23:30:00.056000\t0\t0%\n",
      "\n",
      "At 2020-02-07 23:34:45.056000\t57\t5%\n",
      "At 2020-02-07 23:39:30.056000\t114\t10%\n",
      "At 2020-02-07 23:44:15.056000\t171\t15%\n",
      "At 2020-02-07 23:48:55.056000\t227\t20%\n",
      "At 2020-02-07 23:53:40.056000\t284\t25%\n",
      "At 2020-02-07 23:58:25.056000\t341\t30%\n",
      "\n",
      "At 2020-02-08 00:03:10.056000\t398\t35%\n",
      "At 2020-02-08 00:07:50.056000\t454\t40%\n"
     ]
    }
   ],
   "source": [
    "current_point = 0\n",
    "stop=False\n",
    "progress = [x for x in range(0,105,5)]\n",
    "interval_index_list = list(interval_sum.index)\n",
    "interval_sum_length = interval_sum.shape[0]\n",
    "for interval_datetime in tqdm(interval_index_list):\n",
    "    if interval_index_list.index(interval_datetime)/interval_sum_length >= progress[0]/100:\n",
    "        print(f'At {interval_datetime}\\t{interval_index_list.index(interval_datetime)}\\t{progress.pop(0)}%')\n",
    "    current_interval_index = interval_index_list.index(interval_datetime)\n",
    "    df_inside_interval = df[(df.Datetime_firstseen >= interval_datetime) & (df.Datetime_firstseen < interval_datetime+dt.timedelta(seconds=INTERVAL))]\n",
    "#     for ind, row in tqdm(df_inside_interval.iterrows(), total=df_inside_interval.shape[0], leave=False, position=1):\n",
    "    for ind, row in df_inside_interval.iterrows():\n",
    "        if row['Datetime_firstseen'] + row['Duration'] >= interval_datetime+dt.timedelta(seconds=5):\n",
    "            resampled_bytes = calculate_resampled_bytes(row, interval_datetime, INTERVAL)\n",
    "            for pos, transfer in enumerate(resampled_bytes):\n",
    "                try:\n",
    "                    interval_sum.iloc[current_interval_index+pos]+=transfer                    \n",
    "                except:\n",
    "                    date_range = pd.date_range(start=interval_sum.index[-1], \n",
    "                                               periods=len(resampled_bytes)-pos+1, \n",
    "                                               freq=f'{INTERVAL}S').tolist()[1:]\n",
    "                    interval_sum = pd.concat([interval_sum, pd.DataFrame({'sum of data transfer':resampled_bytes[pos:]}, index=date_range)])\n",
    "                    break\n",
    "        else:\n",
    "            interval_sum.loc[interval_datetime] += row['Bytes']\n"
   ]
  },
  {
   "cell_type": "code",
   "execution_count": null,
   "metadata": {},
   "outputs": [],
   "source": [
    "print(sum(interval_sum['sum of data transfer']))\n",
    "print(sum(df['Bytes']))"
   ]
  },
  {
   "cell_type": "code",
   "execution_count": null,
   "metadata": {},
   "outputs": [],
   "source": [
    "interval_sum.iloc[:,:].plot()"
   ]
  },
  {
   "cell_type": "code",
   "execution_count": null,
   "metadata": {},
   "outputs": [],
   "source": [
    "start_interval = '2020-02-08 00:04:40.000'\n",
    "end_interval = '2020-02-08 00:04:45.056'\n",
    "df_subset = df[(df['Datetime_firstseen']>=pd.to_datetime(start_interval))&(df['Datetime_firstseen']<pd.to_datetime(end_interval))]\n",
    "\n",
    "print('Total bytes transfered:\\t', end='')\n",
    "print(sum(df_subset['Bytes']))\n",
    "\n",
    "print('# of records:\\t', end='')\n",
    "print(df_subset.shape[0])"
   ]
  },
  {
   "cell_type": "code",
   "execution_count": null,
   "metadata": {},
   "outputs": [],
   "source": [
    "import matplotlib.pyplot as plt\n",
    "import pandas as pd\n",
    "\n",
    "num_intervals = 300\n",
    "start=100\n",
    "disp = df.iloc[start:num_intervals+start,:].sample(frac=1)\n",
    "# disp = df.sample(frac=1).iloc[:num_intervals,:]\n",
    "intervals = disp[['Datetime_firstseen','Datetime_lastseen','Duration']]\n",
    "\n",
    "min_date=disp.Datetime_firstseen.min() - dt.timedelta(microseconds=disp.Datetime_firstseen.min().microsecond)\n",
    "max_date=disp.Datetime_lastseen.max() - dt.timedelta(microseconds=disp.Datetime_firstseen.min().microsecond) + dt.timedelta(seconds=1)\n",
    "\n",
    "\n",
    "idx=0\n",
    "\n",
    "viridis = plt.cm.get_cmap('viridis', num_intervals)\n",
    "              \n",
    "fig, ax = plt.subplots(figsize=(20,27))\n",
    "for x_s, dur, x_e in zip(intervals['Datetime_firstseen'],intervals['Duration'], intervals['Datetime_lastseen']):\n",
    "#     print(x_s, dur.total_seconds(), x_e)\n",
    "    x_s = (x_s - min_date).total_seconds()\n",
    "    ax.add_patch(plt.Rectangle((x_s,idx),\n",
    "                               dur.total_seconds(),\n",
    "                               .2 ,\n",
    "                               color=viridis(idx / num_intervals)))\n",
    "    idx+=1\n",
    "\n",
    "    \n",
    "ax.autoscale()\n",
    "\n",
    "date_range = pd.date_range(start=min_date, end=max_date, periods=len(ax.xaxis.get_majorticklocs()))\n",
    "date_range = ['{:%b-%d-%Y %H:%M:%S}.{:02.0f}'.format(x, x.microsecond / 10000.0) for x in date_range]\n",
    "print(date_range)\n",
    "ax.xaxis.set_ticklabels(date_range)\n",
    "# ax.set_ylim(-2,4)\n",
    "plt.savefig('./networkflow')\n",
    "plt.show()\n"
   ]
  },
  {
   "cell_type": "markdown",
   "metadata": {},
   "source": [
    "## Bucket by flow size\n",
    "## bandwidth\n",
    "## geolocate ip address into a dicionary (remember load balancing)"
   ]
  },
  {
   "cell_type": "markdown",
   "metadata": {},
   "source": []
  },
  {
   "cell_type": "markdown",
   "metadata": {},
   "source": []
  },
  {
   "cell_type": "code",
   "execution_count": null,
   "metadata": {},
   "outputs": [],
   "source": []
  },
  {
   "cell_type": "code",
   "execution_count": null,
   "metadata": {},
   "outputs": [],
   "source": [
    "ip_host = pd.read_feather(\"./feather_hostnames\")\n",
    "ip_host.set_index('ip_addr', inplace=True)"
   ]
  },
  {
   "cell_type": "code",
   "execution_count": null,
   "metadata": {},
   "outputs": [],
   "source": [
    "df['Source_Host'] = df.loc[:,'Src_IP_Addr'].map(lambda x: ip_host.loc[x,'hostnames'])\n",
    "df['Dest_Host'] = df.loc[:,'Dst_IP_Addr'].map(lambda x: ip_host.loc[x,'hostnames'])\n",
    "df.head()"
   ]
  },
  {
   "cell_type": "code",
   "execution_count": null,
   "metadata": {},
   "outputs": [],
   "source": [
    "df.head()"
   ]
  },
  {
   "cell_type": "code",
   "execution_count": null,
   "metadata": {},
   "outputs": [],
   "source": [
    "df_umkc = df[df.Dest_Host == 'UMKC']\n",
    "df_umkc.sort_values(by=['Datetime_firstseen'], inplace=True)\n",
    "df_umkc.reset_index(drop=True, inplace=True)\n",
    "df_umkc.head()"
   ]
  },
  {
   "cell_type": "code",
   "execution_count": null,
   "metadata": {},
   "outputs": [],
   "source": [
    "df_umkc.loc[:,'Bytes'].plot()"
   ]
  },
  {
   "cell_type": "code",
   "execution_count": null,
   "metadata": {},
   "outputs": [],
   "source": [
    "df_umkc.loc[600000:900000,'Bytes'].plot()"
   ]
  },
  {
   "cell_type": "code",
   "execution_count": null,
   "metadata": {},
   "outputs": [],
   "source": [
    "df_umkc.loc[600000:900000,'Bytes'].max()"
   ]
  },
  {
   "cell_type": "code",
   "execution_count": null,
   "metadata": {},
   "outputs": [],
   "source": []
  }
 ],
 "metadata": {
  "kernelspec": {
   "display_name": "Python 3",
   "language": "python",
   "name": "python3"
  },
  "language_info": {
   "codemirror_mode": {
    "name": "ipython",
    "version": 3
   },
   "file_extension": ".py",
   "mimetype": "text/x-python",
   "name": "python",
   "nbconvert_exporter": "python",
   "pygments_lexer": "ipython3",
   "version": "3.7.7"
  }
 },
 "nbformat": 4,
 "nbformat_minor": 4
}
