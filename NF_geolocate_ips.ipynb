{
 "cells": [
  {
   "cell_type": "code",
   "execution_count": 1,
   "metadata": {},
   "outputs": [],
   "source": [
    "import pandas as pd\n",
    "import requests\n",
    "import numpy\n",
    "from tqdm import tqdm\n",
    "import json"
   ]
  },
  {
   "cell_type": "code",
   "execution_count": 23,
   "metadata": {},
   "outputs": [
    {
     "name": "stderr",
     "output_type": "stream",
     "text": [
      "\n",
      "\n",
      "  0%|                                                                                       | 0/252430 [00:00<?, ?it/s]\u001b[A\u001b[A"
     ]
    },
    {
     "name": "stdout",
     "output_type": "stream",
     "text": [
      "Connection blocked\n"
     ]
    },
    {
     "name": "stderr",
     "output_type": "stream",
     "text": [
      "\n"
     ]
    }
   ],
   "source": [
    "hostnames = pd.read_feather('./feather_hostnames_v2')\n",
    "hostnames.fillna(value=numpy.nan, inplace=True)\n",
    "count=0\n",
    "for ind, row in tqdm(hostnames.iterrows(), total = hostnames.shape[0]):\n",
    "    try:\n",
    "        if not numpy.isnan(row['details']):\n",
    "            continue\n",
    "    except TypeError:\n",
    "        continue\n",
    "    try:\n",
    "        r = requests.get(f\"https://ipapi\\.co/{row['ip_addr']}/json/\")\n",
    "        if r.status_code != 200:\n",
    "            break\n",
    "        hostnames.loc[ind, 'details'] = r.text\n",
    "    except:\n",
    "        print('Connection blocked')\n",
    "        break\n",
    "    count+=1\n",
    "    if count==100:\n",
    "        break"
   ]
  },
  {
   "cell_type": "code",
   "execution_count": 26,
   "metadata": {},
   "outputs": [],
   "source": [
    "hostnames_copy = hostnames.copy()\n",
    "hostnames = hostnames[~hostnames['details'].isnull()]"
   ]
  },
  {
   "cell_type": "code",
   "execution_count": 37,
   "metadata": {},
   "outputs": [],
   "source": [
    "def get_det(val):\n",
    "    val = json.loads(val)\n",
    "    return val['city'], val['region_code'], val['country'], val['asn'], val['org']\n",
    "    \n",
    "hostnames['city'], hostnames['region_code'], hostnames['country'], hostnames['asn'], hostnames['org'] = zip(*hostnames[~hostnames['details'].isnull()]['details'].map(get_det))"
   ]
  },
  {
   "cell_type": "code",
   "execution_count": 60,
   "metadata": {},
   "outputs": [],
   "source": [
    "hostnames = hostnames_copy.merge(hostnames, how='left')\n",
    "hostnames.to_feather('./feather_hostnames_v2')"
   ]
  },
  {
   "cell_type": "code",
   "execution_count": null,
   "metadata": {},
   "outputs": [],
   "source": []
  }
 ],
 "metadata": {
  "kernelspec": {
   "display_name": "Python 3.7.6 64-bit ('dsci': conda)",
   "language": "python",
   "name": "python37664bitdscicondade34f1ef15e64b43a324c7735957fe54"
  },
  "language_info": {
   "codemirror_mode": {
    "name": "ipython",
    "version": 3
   },
   "file_extension": ".py",
   "mimetype": "text/x-python",
   "name": "python",
   "nbconvert_exporter": "python",
   "pygments_lexer": "ipython3",
   "version": "3.7.7"
  }
 },
 "nbformat": 4,
 "nbformat_minor": 4
}
